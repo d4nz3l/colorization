{
 "cells": [
  {
   "cell_type": "code",
   "execution_count": 48,
   "metadata": {},
   "outputs": [],
   "source": [
    "import numpy as np\n",
    "import tensorflow as tf\n",
    "\n",
    "from skimage.color import rgb2lab, lab2rgb, rgb2gray\n",
    "from skimage.io import imsave, imshow_collection\n",
    "from tensorflow.keras.layers import Conv2D, UpSampling2D, InputLayer\n",
    "from tensorflow.keras.models import Sequential\n",
    "from tensorflow.keras.preprocessing.image import img_to_array, load_img"
   ]
  },
  {
   "cell_type": "code",
   "execution_count": 49,
   "metadata": {},
   "outputs": [],
   "source": [
    "# Load image\n",
    "\n",
    "image = img_to_array(load_img('woman.jpg'))\n",
    "image = np.array(image, dtype=float)\n",
    "#image[:,:,0]\n",
    "#image.shape # -> (400, 400, 3)"
   ]
  },
  {
   "cell_type": "markdown",
   "metadata": {},
   "source": [
    "## Prepare image\n",
    "\n",
    "**numpy.reshape**"
   ]
  },
  {
   "cell_type": "code",
   "execution_count": 50,
   "metadata": {},
   "outputs": [],
   "source": [
    "X = rgb2lab(1.0/255*image)[:,:,0]\n",
    "Y = rgb2lab(1.0/255*image)[:,:,1:]\n",
    "Y /= 128 # Normalize lab values (-128 to 128) to values between -1 and 1.\n",
    "\n",
    "# Add forth dimension - Why?\n",
    "X = X.reshape(1, 400, 400, 1)\n",
    "Y = Y.reshape(1, 400, 400, 2)"
   ]
  },
  {
   "cell_type": "code",
   "execution_count": 67,
   "metadata": {},
   "outputs": [],
   "source": [
    "# Building the neural network\n",
    "model = Sequential()\n",
    "## Encoder\n",
    "model.add(InputLayer(input_shape=(None, None, 1)))\n",
    "model.add(Conv2D(8, (3, 3), activation='relu', padding='same', strides=2))\n",
    "model.add(Conv2D(8, (3, 3), activation='relu', padding='same'))\n",
    "model.add(Conv2D(16, (3, 3), activation='relu', padding='same'))\n",
    "model.add(Conv2D(16, (3, 3), activation='relu', padding='same', strides=2))\n",
    "model.add(Conv2D(32, (3, 3), activation='relu', padding='same'))\n",
    "model.add(Conv2D(32, (3, 3), activation='relu', padding='same', strides=2))\n",
    "## Decoder\n",
    "model.add(UpSampling2D((2, 2)))\n",
    "model.add(Conv2D(32, (3, 3), activation='relu', padding='same'))\n",
    "model.add(UpSampling2D((2, 2)))\n",
    "model.add(Conv2D(16, (3, 3), activation='relu', padding='same'))\n",
    "model.add(UpSampling2D((2, 2)))\n",
    "model.add(Conv2D(2, (3, 3), activation='tanh', padding='same'))\n",
    "\n",
    "model.compile(optimizer='rmsprop', loss='mse')\n",
    "\n",
    "# save initial weights for batch training different epochs\n",
    "model.save_weights('initial_model.h5')"
   ]
  },
  {
   "cell_type": "markdown",
   "metadata": {},
   "source": [
    "model.fit - Trains the model for a fixed number of epochs (iteratrion on a dataset).\n",
    "\n",
    "model.evaluate - Returns the loss value & metric value for the model in test mode.\n",
    "\n",
    "model.predict - Generates output prediction for the input samples"
   ]
  },
  {
   "cell_type": "code",
   "execution_count": 69,
   "metadata": {},
   "outputs": [
    {
     "name": "stdout",
     "output_type": "stream",
     "text": "00\n1/1 [==============================] - 0s 108ms/sample - loss: 8.1521e-05\nEpoch 2783/3000\n1/1 [==============================] - 0s 102ms/sample - loss: 8.5236e-05\nEpoch 2784/3000\n1/1 [==============================] - 0s 106ms/sample - loss: 9.2828e-05\nEpoch 2785/3000\n1/1 [==============================] - 0s 109ms/sample - loss: 1.0269e-04\nEpoch 2786/3000\n1/1 [==============================] - 0s 105ms/sample - loss: 1.1553e-04\nEpoch 2787/3000\n1/1 [==============================] - 0s 105ms/sample - loss: 1.1341e-04\nEpoch 2788/3000\n1/1 [==============================] - 0s 108ms/sample - loss: 1.1648e-04\nEpoch 2789/3000\n1/1 [==============================] - 0s 104ms/sample - loss: 1.0379e-04\nEpoch 2790/3000\n1/1 [==============================] - 0s 104ms/sample - loss: 9.2037e-05\nEpoch 2791/3000\n1/1 [==============================] - 0s 104ms/sample - loss: 8.4838e-05\nEpoch 2792/3000\n1/1 [==============================] - 0s 105ms/sample - loss: 1.0197e-04\nEpoch 2793/3000\n1/1 [==============================] - 0s 106ms/sample - loss: 1.2324e-04\nEpoch 2794/3000\n1/1 [==============================] - 0s 107ms/sample - loss: 1.9790e-04\nEpoch 2795/3000\n1/1 [==============================] - 0s 107ms/sample - loss: 2.5274e-04\nEpoch 2796/3000\n1/1 [==============================] - 0s 122ms/sample - loss: 6.9466e-04\nEpoch 2797/3000\n1/1 [==============================] - 0s 149ms/sample - loss: 0.0029\nEpoch 2798/3000\n1/1 [==============================] - 0s 115ms/sample - loss: 0.0017\nEpoch 2799/3000\n1/1 [==============================] - 0s 109ms/sample - loss: 4.5529e-04\nEpoch 2800/3000\n1/1 [==============================] - 0s 118ms/sample - loss: 2.1748e-04\nEpoch 2801/3000\n1/1 [==============================] - 0s 120ms/sample - loss: 1.4796e-04\nEpoch 2802/3000\n1/1 [==============================] - 0s 120ms/sample - loss: 1.2317e-04\nEpoch 2803/3000\n1/1 [==============================] - 0s 115ms/sample - loss: 1.1074e-04\nEpoch 2804/3000\n1/1 [==============================] - 0s 128ms/sample - loss: 1.0162e-04\nEpoch 2805/3000\n1/1 [==============================] - 0s 119ms/sample - loss: 9.5369e-05\nEpoch 2806/3000\n1/1 [==============================] - 0s 111ms/sample - loss: 9.0430e-05\nEpoch 2807/3000\n1/1 [==============================] - 0s 115ms/sample - loss: 8.6563e-05\nEpoch 2808/3000\n1/1 [==============================] - 0s 124ms/sample - loss: 8.3580e-05\nEpoch 2809/3000\n1/1 [==============================] - 0s 127ms/sample - loss: 8.0967e-05\nEpoch 2810/3000\n1/1 [==============================] - 0s 123ms/sample - loss: 7.8770e-05\nEpoch 2811/3000\n1/1 [==============================] - 0s 117ms/sample - loss: 7.6947e-05\nEpoch 2812/3000\n1/1 [==============================] - 0s 108ms/sample - loss: 7.5257e-05\nEpoch 2813/3000\n1/1 [==============================] - 0s 106ms/sample - loss: 7.3861e-05\nEpoch 2814/3000\n1/1 [==============================] - 0s 107ms/sample - loss: 7.2628e-05\nEpoch 2815/3000\n1/1 [==============================] - 0s 119ms/sample - loss: 7.1430e-05\nEpoch 2816/3000\n1/1 [==============================] - 0s 106ms/sample - loss: 7.0272e-05\nEpoch 2817/3000\n1/1 [==============================] - 0s 104ms/sample - loss: 6.9278e-05\nEpoch 2818/3000\n1/1 [==============================] - 0s 109ms/sample - loss: 6.9302e-05\nEpoch 2819/3000\n1/1 [==============================] - 0s 117ms/sample - loss: 7.3248e-05\nEpoch 2820/3000\n1/1 [==============================] - 0s 106ms/sample - loss: 8.9475e-05\nEpoch 2821/3000\n1/1 [==============================] - 0s 107ms/sample - loss: 1.2118e-04\nEpoch 2822/3000\n1/1 [==============================] - 0s 107ms/sample - loss: 1.1478e-04\nEpoch 2823/3000\n1/1 [==============================] - 0s 111ms/sample - loss: 1.2030e-04\nEpoch 2824/3000\n1/1 [==============================] - 0s 111ms/sample - loss: 1.0421e-04\nEpoch 2825/3000\n1/1 [==============================] - 0s 103ms/sample - loss: 1.1644e-04\nEpoch 2826/3000\n1/1 [==============================] - 0s 104ms/sample - loss: 9.4414e-05\nEpoch 2827/3000\n1/1 [==============================] - 0s 110ms/sample - loss: 9.2808e-05\nEpoch 2828/3000\n1/1 [==============================] - 0s 113ms/sample - loss: 8.0817e-05\nEpoch 2829/3000\n1/1 [==============================] - 0s 106ms/sample - loss: 7.9349e-05\nEpoch 2830/3000\n1/1 [==============================] - 0s 105ms/sample - loss: 7.5546e-05\nEpoch 2831/3000\n1/1 [==============================] - 0s 102ms/sample - loss: 8.2052e-05\nEpoch 2832/3000\n1/1 [==============================] - 0s 116ms/sample - loss: 1.0820e-04\nEpoch 2833/3000\n1/1 [==============================] - 0s 109ms/sample - loss: 1.8492e-04\nEpoch 2834/3000\n1/1 [==============================] - 0s 107ms/sample - loss: 1.3072e-04\nEpoch 2835/3000\n1/1 [==============================] - 0s 105ms/sample - loss: 1.5458e-04\nEpoch 2836/3000\n1/1 [==============================] - 0s 106ms/sample - loss: 1.1875e-04\nEpoch 2837/3000\n1/1 [==============================] - 0s 126ms/sample - loss: 1.0529e-04\nEpoch 2838/3000\n1/1 [==============================] - 0s 109ms/sample - loss: 1.1067e-04\nEpoch 2839/3000\n1/1 [==============================] - 0s 101ms/sample - loss: 9.8186e-05\nEpoch 2840/3000\n1/1 [==============================] - 0s 107ms/sample - loss: 9.3073e-05\nEpoch 2841/3000\n1/1 [==============================] - 0s 122ms/sample - loss: 7.7177e-05\nEpoch 2842/3000\n1/1 [==============================] - 0s 115ms/sample - loss: 7.5347e-05\nEpoch 2843/3000\n1/1 [==============================] - 0s 114ms/sample - loss: 8.3835e-05\nEpoch 2844/3000\n1/1 [==============================] - 0s 120ms/sample - loss: 9.7319e-05\nEpoch 2845/3000\n1/1 [==============================] - 0s 109ms/sample - loss: 1.1696e-04\nEpoch 2846/3000\n1/1 [==============================] - 0s 111ms/sample - loss: 1.1780e-04\nEpoch 2847/3000\n1/1 [==============================] - 0s 109ms/sample - loss: 1.4139e-04\nEpoch 2848/3000\n1/1 [==============================] - 0s 111ms/sample - loss: 1.2326e-04\nEpoch 2849/3000\n1/1 [==============================] - 0s 109ms/sample - loss: 1.1438e-04\nEpoch 2850/3000\n1/1 [==============================] - 0s 108ms/sample - loss: 1.2013e-04\nEpoch 2851/3000\n1/1 [==============================] - 0s 105ms/sample - loss: 1.0301e-04\nEpoch 2852/3000\n1/1 [==============================] - 0s 105ms/sample - loss: 1.0564e-04\nEpoch 2853/3000\n1/1 [==============================] - 0s 108ms/sample - loss: 9.5226e-05\nEpoch 2854/3000\n1/1 [==============================] - 0s 105ms/sample - loss: 9.9424e-05\nEpoch 2855/3000\n1/1 [==============================] - 0s 110ms/sample - loss: 1.0661e-04\nEpoch 2856/3000\n1/1 [==============================] - 0s 120ms/sample - loss: 1.1882e-04\nEpoch 2857/3000\n1/1 [==============================] - 0s 106ms/sample - loss: 1.2159e-04\nEpoch 2858/3000\n1/1 [==============================] - 0s 108ms/sample - loss: 1.0443e-04\nEpoch 2859/3000\n1/1 [==============================] - 0s 109ms/sample - loss: 8.5385e-05\nEpoch 2860/3000\n1/1 [==============================] - 0s 106ms/sample - loss: 7.6178e-05\nEpoch 2861/3000\n1/1 [==============================] - 0s 105ms/sample - loss: 7.2581e-05\nEpoch 2862/3000\n1/1 [==============================] - 0s 110ms/sample - loss: 6.9784e-05\nEpoch 2863/3000\n1/1 [==============================] - 0s 107ms/sample - loss: 7.2396e-05\nEpoch 2864/3000\n1/1 [==============================] - 0s 108ms/sample - loss: 8.1182e-05\nEpoch 2865/3000\n1/1 [==============================] - 0s 103ms/sample - loss: 1.1597e-04\nEpoch 2866/3000\n1/1 [==============================] - 0s 104ms/sample - loss: 1.6622e-04\nEpoch 2867/3000\n1/1 [==============================] - 0s 107ms/sample - loss: 3.2787e-04\nEpoch 2868/3000\n1/1 [==============================] - 0s 106ms/sample - loss: 4.0858e-04\nEpoch 2869/3000\n1/1 [==============================] - 0s 108ms/sample - loss: 3.8435e-04\nEpoch 2870/3000\n1/1 [==============================] - 0s 108ms/sample - loss: 3.3897e-04\nEpoch 2871/3000\n1/1 [==============================] - 0s 104ms/sample - loss: 2.0212e-04\nEpoch 2872/3000\n1/1 [==============================] - 0s 108ms/sample - loss: 1.4301e-04\nEpoch 2873/3000\n1/1 [==============================] - 0s 109ms/sample - loss: 8.7415e-05\nEpoch 2874/3000\n1/1 [==============================] - 0s 125ms/sample - loss: 7.3074e-05\nEpoch 2875/3000\n1/1 [==============================] - 0s 121ms/sample - loss: 6.7076e-05\nEpoch 2876/3000\n1/1 [==============================] - 0s 105ms/sample - loss: 6.4220e-05\nEpoch 2877/3000\n1/1 [==============================] - 0s 107ms/sample - loss: 6.2608e-05\nEpoch 2878/3000\n1/1 [==============================] - 0s 104ms/sample - loss: 6.2228e-05\nEpoch 2879/3000\n1/1 [==============================] - 0s 106ms/sample - loss: 6.2935e-05\nEpoch 2880/3000\n1/1 [==============================] - 0s 110ms/sample - loss: 6.5132e-05\nEpoch 2881/3000\n1/1 [==============================] - 0s 108ms/sample - loss: 7.0567e-05\nEpoch 2882/3000\n1/1 [==============================] - 0s 122ms/sample - loss: 7.9177e-05\nEpoch 2883/3000\n1/1 [==============================] - 0s 104ms/sample - loss: 9.6485e-05\nEpoch 2884/3000\n1/1 [==============================] - 0s 107ms/sample - loss: 1.0571e-04\nEpoch 2885/3000\n1/1 [==============================] - 0s 103ms/sample - loss: 1.2613e-04\nEpoch 2886/3000\n1/1 [==============================] - 0s 109ms/sample - loss: 1.1336e-04\nEpoch 2887/3000\n1/1 [==============================] - 0s 113ms/sample - loss: 1.2026e-04\nEpoch 2888/3000\n1/1 [==============================] - 0s 103ms/sample - loss: 1.0310e-04\nEpoch 2889/3000\n1/1 [==============================] - 0s 104ms/sample - loss: 1.0428e-04\nEpoch 2890/3000\n1/1 [==============================] - 0s 121ms/sample - loss: 9.8519e-05\nEpoch 2891/3000\n1/1 [==============================] - 0s 102ms/sample - loss: 9.1003e-05\nEpoch 2892/3000\n1/1 [==============================] - 0s 108ms/sample - loss: 8.7826e-05\nEpoch 2893/3000\n1/1 [==============================] - 0s 109ms/sample - loss: 8.6290e-05\nEpoch 2894/3000\n1/1 [==============================] - 0s 119ms/sample - loss: 8.5568e-05\nEpoch 2895/3000\n1/1 [==============================] - 0s 108ms/sample - loss: 8.6713e-05\nEpoch 2896/3000\n1/1 [==============================] - 0s 108ms/sample - loss: 8.5000e-05\nEpoch 2897/3000\n1/1 [==============================] - 0s 113ms/sample - loss: 8.9164e-05\nEpoch 2898/3000\n1/1 [==============================] - 0s 116ms/sample - loss: 9.6420e-05\nEpoch 2899/3000\n1/1 [==============================] - 0s 118ms/sample - loss: 1.1333e-04\nEpoch 2900/3000\n1/1 [==============================] - 0s 108ms/sample - loss: 1.3954e-04\nEpoch 2901/3000\n1/1 [==============================] - 0s 105ms/sample - loss: 1.6351e-04\nEpoch 2902/3000\n1/1 [==============================] - 0s 104ms/sample - loss: 1.3835e-04\nEpoch 2903/3000\n1/1 [==============================] - 0s 118ms/sample - loss: 1.1817e-04\nEpoch 2904/3000\n1/1 [==============================] - 0s 104ms/sample - loss: 1.3579e-04\nEpoch 2905/3000\n1/1 [==============================] - 0s 107ms/sample - loss: 9.1167e-05\nEpoch 2906/3000\n1/1 [==============================] - 0s 105ms/sample - loss: 7.6445e-05\nEpoch 2907/3000\n1/1 [==============================] - 0s 102ms/sample - loss: 6.4180e-05\nEpoch 2908/3000\n1/1 [==============================] - 0s 114ms/sample - loss: 6.5456e-05\nEpoch 2909/3000\n1/1 [==============================] - 0s 111ms/sample - loss: 7.4071e-05\nEpoch 2910/3000\n1/1 [==============================] - 0s 104ms/sample - loss: 8.6676e-05\nEpoch 2911/3000\n1/1 [==============================] - 0s 105ms/sample - loss: 1.1343e-04\nEpoch 2912/3000\n1/1 [==============================] - 0s 109ms/sample - loss: 1.4706e-04\nEpoch 2913/3000\n1/1 [==============================] - 0s 110ms/sample - loss: 1.3159e-04\nEpoch 2914/3000\n1/1 [==============================] - 0s 106ms/sample - loss: 1.2163e-04\nEpoch 2915/3000\n1/1 [==============================] - 0s 103ms/sample - loss: 1.2051e-04\nEpoch 2916/3000\n1/1 [==============================] - 0s 120ms/sample - loss: 9.3562e-05\nEpoch 2917/3000\n1/1 [==============================] - 0s 106ms/sample - loss: 1.4730e-04\nEpoch 2918/3000\n1/1 [==============================] - 0s 108ms/sample - loss: 2.1410e-04\nEpoch 2919/3000\n1/1 [==============================] - 0s 106ms/sample - loss: 2.0149e-04\nEpoch 2920/3000\n1/1 [==============================] - 0s 113ms/sample - loss: 2.3869e-04\nEpoch 2921/3000\n1/1 [==============================] - 0s 118ms/sample - loss: 3.1256e-04\nEpoch 2922/3000\n1/1 [==============================] - 0s 109ms/sample - loss: 4.3571e-04\nEpoch 2923/3000\n1/1 [==============================] - 0s 105ms/sample - loss: 2.1217e-04\nEpoch 2924/3000\n1/1 [==============================] - 0s 102ms/sample - loss: 1.1938e-04\nEpoch 2925/3000\n1/1 [==============================] - 0s 108ms/sample - loss: 7.9458e-05\nEpoch 2926/3000\n1/1 [==============================] - 0s 113ms/sample - loss: 7.0127e-05\nEpoch 2927/3000\n1/1 [==============================] - 0s 116ms/sample - loss: 6.3820e-05\nEpoch 2928/3000\n1/1 [==============================] - 0s 111ms/sample - loss: 6.1681e-05\nEpoch 2929/3000\n1/1 [==============================] - 0s 108ms/sample - loss: 5.9960e-05\nEpoch 2930/3000\n1/1 [==============================] - 0s 118ms/sample - loss: 5.9428e-05\nEpoch 2931/3000\n1/1 [==============================] - 0s 109ms/sample - loss: 5.9162e-05\nEpoch 2932/3000\n1/1 [==============================] - 0s 108ms/sample - loss: 6.0816e-05\nEpoch 2933/3000\n1/1 [==============================] - 0s 109ms/sample - loss: 6.3317e-05\nEpoch 2934/3000\n1/1 [==============================] - 0s 107ms/sample - loss: 7.2555e-05\nEpoch 2935/3000\n1/1 [==============================] - 0s 108ms/sample - loss: 7.9628e-05\nEpoch 2936/3000\n1/1 [==============================] - 0s 108ms/sample - loss: 1.0564e-04\nEpoch 2937/3000\n1/1 [==============================] - 0s 106ms/sample - loss: 9.4034e-05\nEpoch 2938/3000\n1/1 [==============================] - 0s 106ms/sample - loss: 1.3437e-04\nEpoch 2939/3000\n1/1 [==============================] - 0s 108ms/sample - loss: 1.0405e-04\nEpoch 2940/3000\n1/1 [==============================] - 0s 109ms/sample - loss: 7.4127e-05\nEpoch 2941/3000\n1/1 [==============================] - 0s 108ms/sample - loss: 8.2160e-05\nEpoch 2942/3000\n1/1 [==============================] - 0s 107ms/sample - loss: 1.1266e-04\nEpoch 2943/3000\n1/1 [==============================] - 0s 109ms/sample - loss: 1.3069e-04\nEpoch 2944/3000\n1/1 [==============================] - 0s 105ms/sample - loss: 1.3750e-04\nEpoch 2945/3000\n1/1 [==============================] - 0s 108ms/sample - loss: 9.9099e-05\nEpoch 2946/3000\n1/1 [==============================] - 0s 106ms/sample - loss: 8.8849e-05\nEpoch 2947/3000\n1/1 [==============================] - 0s 113ms/sample - loss: 7.7598e-05\nEpoch 2948/3000\n1/1 [==============================] - 0s 112ms/sample - loss: 6.8580e-05\nEpoch 2949/3000\n1/1 [==============================] - 0s 106ms/sample - loss: 6.5046e-05\nEpoch 2950/3000\n1/1 [==============================] - 0s 108ms/sample - loss: 6.9315e-05\nEpoch 2951/3000\n1/1 [==============================] - 0s 107ms/sample - loss: 7.6062e-05\nEpoch 2952/3000\n1/1 [==============================] - 0s 106ms/sample - loss: 1.1425e-04\nEpoch 2953/3000\n1/1 [==============================] - 0s 108ms/sample - loss: 1.1984e-04\nEpoch 2954/3000\n1/1 [==============================] - 0s 111ms/sample - loss: 2.9834e-04\nEpoch 2955/3000\n1/1 [==============================] - 0s 108ms/sample - loss: 3.2101e-04\nEpoch 2956/3000\n1/1 [==============================] - 0s 115ms/sample - loss: 2.6496e-04\nEpoch 2957/3000\n1/1 [==============================] - 0s 110ms/sample - loss: 2.2895e-04\nEpoch 2958/3000\n1/1 [==============================] - 0s 105ms/sample - loss: 2.3256e-04\nEpoch 2959/3000\n1/1 [==============================] - 0s 104ms/sample - loss: 2.6829e-04\nEpoch 2960/3000\n1/1 [==============================] - 0s 104ms/sample - loss: 1.9329e-04\nEpoch 2961/3000\n1/1 [==============================] - 0s 106ms/sample - loss: 1.3736e-04\nEpoch 2962/3000\n1/1 [==============================] - 0s 104ms/sample - loss: 7.5059e-05\nEpoch 2963/3000\n1/1 [==============================] - 0s 115ms/sample - loss: 6.4904e-05\nEpoch 2964/3000\n1/1 [==============================] - 0s 121ms/sample - loss: 6.1827e-05\nEpoch 2965/3000\n1/1 [==============================] - 0s 114ms/sample - loss: 6.0012e-05\nEpoch 2966/3000\n1/1 [==============================] - 0s 109ms/sample - loss: 5.9106e-05\nEpoch 2967/3000\n1/1 [==============================] - 0s 109ms/sample - loss: 5.8611e-05\nEpoch 2968/3000\n1/1 [==============================] - 0s 104ms/sample - loss: 5.8735e-05\nEpoch 2969/3000\n1/1 [==============================] - 0s 106ms/sample - loss: 5.9631e-05\nEpoch 2970/3000\n1/1 [==============================] - 0s 107ms/sample - loss: 6.2599e-05\nEpoch 2971/3000\n1/1 [==============================] - 0s 102ms/sample - loss: 6.8955e-05\nEpoch 2972/3000\n1/1 [==============================] - 0s 103ms/sample - loss: 8.5231e-05\nEpoch 2973/3000\n1/1 [==============================] - 0s 106ms/sample - loss: 1.0761e-04\nEpoch 2974/3000\n1/1 [==============================] - 0s 103ms/sample - loss: 1.4350e-04\nEpoch 2975/3000\n1/1 [==============================] - 0s 105ms/sample - loss: 1.3861e-04\nEpoch 2976/3000\n1/1 [==============================] - 0s 105ms/sample - loss: 1.5166e-04\nEpoch 2977/3000\n1/1 [==============================] - 0s 105ms/sample - loss: 1.2999e-04\nEpoch 2978/3000\n1/1 [==============================] - 0s 119ms/sample - loss: 1.0678e-04\nEpoch 2979/3000\n1/1 [==============================] - 0s 105ms/sample - loss: 9.3394e-05\nEpoch 2980/3000\n1/1 [==============================] - 0s 108ms/sample - loss: 8.0765e-05\nEpoch 2981/3000\n1/1 [==============================] - 0s 108ms/sample - loss: 7.5012e-05\nEpoch 2982/3000\n1/1 [==============================] - 0s 106ms/sample - loss: 7.0891e-05\nEpoch 2983/3000\n1/1 [==============================] - 0s 113ms/sample - loss: 6.9930e-05\nEpoch 2984/3000\n1/1 [==============================] - 0s 115ms/sample - loss: 7.8261e-05\nEpoch 2985/3000\n1/1 [==============================] - 0s 106ms/sample - loss: 8.3221e-05\nEpoch 2986/3000\n1/1 [==============================] - 0s 111ms/sample - loss: 1.1201e-04\nEpoch 2987/3000\n1/1 [==============================] - 0s 112ms/sample - loss: 1.1656e-04\nEpoch 2988/3000\n1/1 [==============================] - 0s 104ms/sample - loss: 1.4481e-04\nEpoch 2989/3000\n1/1 [==============================] - 0s 106ms/sample - loss: 2.1291e-04\nEpoch 2990/3000\n1/1 [==============================] - 0s 103ms/sample - loss: 2.4584e-04\nEpoch 2991/3000\n1/1 [==============================] - 0s 107ms/sample - loss: 2.6081e-04\nEpoch 2992/3000\n1/1 [==============================] - 0s 118ms/sample - loss: 1.5147e-04\nEpoch 2993/3000\n1/1 [==============================] - 0s 108ms/sample - loss: 1.0406e-04\nEpoch 2994/3000\n1/1 [==============================] - 0s 104ms/sample - loss: 1.0810e-04\nEpoch 2995/3000\n1/1 [==============================] - 0s 106ms/sample - loss: 1.0976e-04\nEpoch 2996/3000\n1/1 [==============================] - 0s 107ms/sample - loss: 1.3262e-04\nEpoch 2997/3000\n1/1 [==============================] - 0s 109ms/sample - loss: 1.0134e-04\nEpoch 2998/3000\n1/1 [==============================] - 0s 110ms/sample - loss: 1.1840e-04\nEpoch 2999/3000\n1/1 [==============================] - 0s 107ms/sample - loss: 1.0969e-04\nEpoch 3000/3000\n1/1 [==============================] - 0s 108ms/sample - loss: 1.0184e-04\n1/1 [==============================] - 0s 16ms/sample - loss: 1.0862e-04\nLossy conversion from float64 to uint8. Range [0, 1]. Convert image to uint8 prior to saving to suppress this warning.\nLossy conversion from float64 to uint8. Range [0, 1]. Convert image to uint8 prior to saving to suppress this warning.\n"
    }
   ],
   "source": [
    "# Train model -> Epochs: 10, 100, 500, 1000, 2000, 3000\n",
    "training_epochs = [10, 100, 500, 1000, 2000, 3000]\n",
    "for epochs in training_epochs:\n",
    "    model.load_weights('initial_model.h5')\n",
    "    model.fit(x=X, y=Y, batch_size=1, epochs=epochs)\n",
    "    \n",
    "    model.evaluate(X, Y, batch_size=1)\n",
    "    output = model.predict(X)\n",
    "    output *= 128\n",
    "\n",
    "    canvas = np.zeros((400, 400, 3))\n",
    "    canvas[:,:,0] = X[0][:,:,0]\n",
    "    canvas[:,:,1:] = output[0]\n",
    "\n",
    "    imsave(f\"woman_result_e{epochs}.jpg\", lab2rgb(canvas))\n",
    "    imsave(\"woman_gray.jpg\", rgb2gray(lab2rgb(canvas)))"
   ]
  }
 ],
 "metadata": {
  "kernelspec": {
   "display_name": "Colorization",
   "language": "python",
   "name": "colorization"
  },
  "language_info": {
   "codemirror_mode": {
    "name": "ipython",
    "version": 3
   },
   "file_extension": ".py",
   "mimetype": "text/x-python",
   "name": "python",
   "nbconvert_exporter": "python",
   "pygments_lexer": "ipython3",
   "version": "3.7.6-final"
  }
 },
 "nbformat": 4,
 "nbformat_minor": 4
}